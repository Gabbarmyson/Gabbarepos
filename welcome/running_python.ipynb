{
  "cells": [
    {
      "cell_type": "code",
      "source": [
        "list1 = input()\n",
        "if not list1.isalpha():\n",
        "    print(\"Please enter only alphabetical characters for your name.\")\n",
        "elif list1.isdigit():\n",
        "    print(\"Your name cannot be a number.\")\n",
        "\n",
        "list2 = input()\n",
        "if not list2.isalpha():\n",
        "    print(\"Please enter only alphabetical characters for your name.\")\n",
        "elif list2.isdigit():\n",
        "    print(\"Your name cannot be a number.\")\n",
        "user_list1 = list1.split()    \n",
        "user_list2 = list2.split()\n",
        "print(user_list1)\n",
        "print(user_list2)\n",
        "res = [x for x in user_list1 for y in user_list2 if y in x]\n",
        "print(res)"
      ],
      "metadata": {
        "id": "UrBYufZUvRCd"
      },
      "execution_count": null,
      "outputs": []
    },
    {
      "cell_type": "code",
      "source": [
        "ftuple=(10,20,30)\n",
        "stuple=(40,50,60)\n",
        "t_combine =ftuple+stuple\n",
        "#print(\"The concation Tuple =\" + str(t_combine))\n",
        "#t_combine = ((t_combine,) * 3)\n",
        "#print(\"The concation Tuple =\" + str(t_combine))\n",
        "#print(t_combine[2])\n",
        "print(t_combine[0:3])\n",
        "print(t_combine[-3:-1])"
      ],
      "metadata": {
        "colab": {
          "base_uri": "https://localhost:8080/"
        },
        "id": "poQe-tXDSctG",
        "outputId": "cd3be2d9-a839-4d27-9710-fcbda511366e"
      },
      "execution_count": 28,
      "outputs": [
        {
          "output_type": "stream",
          "name": "stdout",
          "text": [
            "(10, 20, 30)\n",
            "(40, 50)\n"
          ]
        }
      ]
    },
    {
      "cell_type": "code",
      "source": [
        "t1 = (1,2,3)\n",
        "t2 = (\"a\",\"b\",\"c\")\n",
        "t3 = ('True', 'False')\n",
        "# Make a list with these tuples\n",
        "my_list = [t1, t2, t3]\n",
        "# Check if it's actually a tuple list\n",
        "print(my_list)\n",
        "# Make a tuple to add to list\n",
        "new_thing = (1, 'a','True')\n",
        "# Append it to the list\n",
        "my_list.append(new_thing)\n",
        "# Print it out to see if it worked\n",
        "print(my_list)"
      ],
      "metadata": {
        "colab": {
          "base_uri": "https://localhost:8080/"
        },
        "id": "BiteRhkpVqLw",
        "outputId": "ff75336d-add5-4cde-ff45-35d3e520318a"
      },
      "execution_count": 41,
      "outputs": [
        {
          "output_type": "stream",
          "name": "stdout",
          "text": [
            "[(1, 2, 3), ('a', 'b', 'c'), ('True', 'False')]\n",
            "[(1, 2, 3), ('a', 'b', 'c'), ('True', 'False'), (1, 'a', 'True')]\n"
          ]
        }
      ]
    },
    {
      "cell_type": "code",
      "source": [
        ""
      ],
      "metadata": {
        "colab": {
          "base_uri": "https://localhost:8080/"
        },
        "id": "dYm6k1l7aOXv",
        "outputId": "f2ca4876-9d36-4113-cd44-6dc1c26ff25b"
      },
      "execution_count": 40,
      "outputs": [
        {
          "output_type": "stream",
          "name": "stdout",
          "text": [
            "[('fruit', 'apple'), ('fruit', 'banana'), ('animal', 'dog')]\n",
            "[('fruit', 'apple'), ('fruit', 'banana'), ('animal', 'dog'), ('animal', 'cat')]\n"
          ]
        }
      ]
    },
    {
      "cell_type": "code",
      "source": [
        "thisdict ={'Apple':85,\"Banana\":54,\"Mango\":120,\"Guava\":70}\n",
        "print(thisdict.values())\n",
        "print(thisdict.keys())"
      ],
      "metadata": {
        "colab": {
          "base_uri": "https://localhost:8080/"
        },
        "id": "8ZlImKBIyVC5",
        "outputId": "7eafc0c1-ce66-4e0f-eb99-5cdcd995008d"
      },
      "execution_count": 45,
      "outputs": [
        {
          "output_type": "stream",
          "name": "stdout",
          "text": [
            "dict_values([85, 54, 120, 70])\n",
            "dict_keys(['Apple', 'Banana', 'Mango', 'Guava'])\n"
          ]
        }
      ]
    },
    {
      "cell_type": "code",
      "source": [
        ""
      ],
      "metadata": {
        "id": "sWn_qKxM2ykH"
      },
      "execution_count": null,
      "outputs": []
    }
  ],
  "metadata": {
    "celltoolbar": "Slideshow",
    "kernelspec": {
      "display_name": "Python 3 (ipykernel)",
      "language": "python",
      "name": "python3"
    },
    "language_info": {
      "codemirror_mode": {
        "name": "ipython",
        "version": 3
      },
      "file_extension": ".py",
      "mimetype": "text/x-python",
      "name": "python",
      "nbconvert_exporter": "python",
      "pygments_lexer": "ipython3",
      "version": "3.8.2"
    },
    "colab": {
      "name": "running_python.ipynb",
      "provenance": []
    }
  },
  "nbformat": 4,
  "nbformat_minor": 0
}