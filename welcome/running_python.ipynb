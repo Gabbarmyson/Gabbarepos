{
  "cells": [
    {
      "cell_type": "markdown",
      "metadata": {
        "id": "8_3vGkTHB1JY"
      },
      "source": [
        "\n",
        "<center>\n",
        "<table>\n",
        "  <tr>\n",
        "    <td><img src=\"http://www.nasa.gov/sites/all/themes/custom/nasatwo/images/nasa-logo.svg\" width=\"100\"/> </td>\n",
        "     <td><img src=\"https://github.com/astg606/py_materials/blob/master/logos/ASTG_logo.png?raw=true\" width=\"80\"/> </td>\n",
        "     <td> <img src=\"https://www.nccs.nasa.gov/sites/default/files/NCCS_Logo_0.png\" width=\"130\"/> </td>\n",
        "    </tr>\n",
        "</table>\n",
        "</center>\n",
        "\n",
        "        \n",
        "<center>\n",
        "<h1><font color= \"blue\" size=\"+3\">ASTG Python Courses</font></h1>\n",
        "</center>\n",
        "\n",
        "\n",
        "---\n",
        "\n",
        "<center><h1>\n",
        "    <font color=\"red\" size=\"+2\">Running Python</font>  \n",
        "</h1></center>"
      ]
    },
    {
      "cell_type": "code",
      "source": [
        "list1 = input()\n",
        "if not list1.isalpha():\n",
        "    print(\"Please enter only alphabetical characters for your name.\")\n",
        "elif list1.isdigit():\n",
        "    print(\"Your name cannot be a number.\")\n",
        "\n",
        "list2 = input()\n",
        "if not list2.isalpha():\n",
        "    print(\"Please enter only alphabetical characters for your name.\")\n",
        "elif list2.isdigit():\n",
        "    print(\"Your name cannot be a number.\")\n",
        "user_list1 = list1.split()    \n",
        "user_list2 = list2.split()\n",
        "print(user_list1)\n",
        "print(user_list2)\n",
        "res = [x for x in user_list1 for y in user_list2 if y in x]\n",
        "print(res)\n"
      ],
      "metadata": {
        "id": "QF_fv49kB-0u"
      },
      "execution_count": null,
      "outputs": []
    },
    {
      "cell_type": "code",
      "source": [
        ""
      ],
      "metadata": {
        "id": "ORyuhjvECBWy"
      },
      "execution_count": null,
      "outputs": []
    }
  ],
  "metadata": {
    "celltoolbar": "Slideshow",
    "kernelspec": {
      "display_name": "Python 3 (ipykernel)",
      "language": "python",
      "name": "python3"
    },
    "language_info": {
      "codemirror_mode": {
        "name": "ipython",
        "version": 3
      },
      "file_extension": ".py",
      "mimetype": "text/x-python",
      "name": "python",
      "nbconvert_exporter": "python",
      "pygments_lexer": "ipython3",
      "version": "3.8.2"
    },
    "colab": {
      "name": "running_python.ipynb",
      "provenance": []
    }
  },
  "nbformat": 4,
  "nbformat_minor": 0
}