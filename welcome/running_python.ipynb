{
  "cells": [
    {
      "cell_type": "code",
      "source": [
        "list1 = input()\n",
        "if not list1.isalpha():\n",
        "    print(\"Please enter only alphabetical characters for your name.\")\n",
        "elif list1.isdigit():\n",
        "    print(\"Your name cannot be a number.\")\n",
        "\n",
        "list2 = input()\n",
        "if not list2.isalpha():\n",
        "    print(\"Please enter only alphabetical characters for your name.\")\n",
        "elif list2.isdigit():\n",
        "    print(\"Your name cannot be a number.\")\n",
        "user_list1 = list1.split()    \n",
        "user_list2 = list2.split()\n",
        "print(user_list1)\n",
        "print(user_list2)\n",
        "res = [x for x in user_list1 for y in user_list2 if y in x]\n",
        "print(res)"
      ],
      "metadata": {
        "id": "UrBYufZUvRCd"
      },
      "execution_count": null,
      "outputs": []
    },
    {
      "cell_type": "code",
      "source": [
        "ftuple=(10,20,30)\n",
        "stuple=(40,50,60)\n",
        "t_combine =ftuple+stuple\n",
        "#print(\"The concation Tuple =\" + str(t_combine))\n",
        "#t_combine = ((t_combine,) * 3)\n",
        "#print(\"The concation Tuple =\" + str(t_combine))\n",
        "#print(t_combine[2])\n",
        "print(t_combine[0:3])\n",
        "print(t_combine[-3:-1])"
      ],
      "metadata": {
        "id": "poQe-tXDSctG",
        "outputId": "cd3be2d9-a839-4d27-9710-fcbda511366e",
        "colab": {
          "base_uri": "https://localhost:8080/"
        }
      },
      "execution_count": 28,
      "outputs": [
        {
          "output_type": "stream",
          "name": "stdout",
          "text": [
            "(10, 20, 30)\n",
            "(40, 50)\n"
          ]
        }
      ]
    },
    {
      "cell_type": "code",
      "source": [
        "my_list=(1,\"a\",True),(2,\"b\",False),(3,\"c\")\n",
        "print (my_list)\n",
        "y = list(my_list)\n",
        "y.append(\"sparta\")\n",
        "my_list = (tuple(y))\n",
        "print (my_list)"
      ],
      "metadata": {
        "id": "BiteRhkpVqLw"
      },
      "execution_count": null,
      "outputs": []
    },
    {
      "cell_type": "code",
      "source": [
        ""
      ],
      "metadata": {
        "id": "dYm6k1l7aOXv"
      },
      "execution_count": null,
      "outputs": []
    }
  ],
  "metadata": {
    "celltoolbar": "Slideshow",
    "kernelspec": {
      "display_name": "Python 3 (ipykernel)",
      "language": "python",
      "name": "python3"
    },
    "language_info": {
      "codemirror_mode": {
        "name": "ipython",
        "version": 3
      },
      "file_extension": ".py",
      "mimetype": "text/x-python",
      "name": "python",
      "nbconvert_exporter": "python",
      "pygments_lexer": "ipython3",
      "version": "3.8.2"
    },
    "colab": {
      "name": "running_python.ipynb",
      "provenance": []
    }
  },
  "nbformat": 4,
  "nbformat_minor": 0
}